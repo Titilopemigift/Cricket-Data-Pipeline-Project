{
 "cells": [
  {
   "cell_type": "code",
   "execution_count": 1,
   "metadata": {},
   "outputs": [],
   "source": [
    "import requests\n",
    "import pandas as pd\n",
    "import csv\n",
    "import psycopg2"
   ]
  },
  {
   "cell_type": "markdown",
   "metadata": {},
   "source": [
    "Extraction Layer\n"
   ]
  },
  {
   "cell_type": "code",
   "execution_count": 2,
   "metadata": {},
   "outputs": [
    {
     "name": "stdout",
     "output_type": "stream",
     "text": [
      "{'rank': [{'id': '8019', 'rank': '1', 'name': 'Joe Root', 'country': 'England', 'rating': '895', 'points': '895', 'lastUpdatedOn': '2025-02-17', 'trend': 'Flat', 'faceImageId': '351574', 'countryId': '9'}, {'id': '12201', 'rank': '2', 'name': 'Harry Brook', 'country': 'England', 'rating': '876', 'points': '876', 'lastUpdatedOn': '2025-02-17', 'trend': 'Flat', 'faceImageId': '244815', 'countryId': '9'}, {'id': '6326', 'rank': '3', 'name': 'Kane Williamson', 'country': 'New Zealand', 'rating': '867', 'points': '867', 'lastUpdatedOn': '2025-02-17', 'trend': 'Flat', 'faceImageId': '616418', 'countryId': '13'}, {'id': '13940', 'rank': '4', 'name': 'Yashasvi Jaiswal', 'country': 'India', 'rating': '847', 'points': '847', 'lastUpdatedOn': '2025-02-17', 'trend': 'Flat', 'faceImageId': '591942', 'countryId': '2'}, {'id': '2250', 'rank': '5', 'name': 'Steven Smith', 'country': 'Australia', 'rating': '823', 'difference': 4, 'points': '823', 'lastUpdatedOn': '2025-02-17', 'trend': 'Up', 'faceImageId': '352448', 'countryId': '4'}, {'id': '8583', 'rank': '6', 'name': 'Temba Bavuma', 'country': 'South Africa', 'rating': '769', 'points': '769', 'lastUpdatedOn': '2025-02-17', 'trend': 'Flat', 'faceImageId': '591937', 'countryId': '11'}, {'id': '10940', 'rank': '7', 'name': 'Kamindu Mendis', 'country': 'Sri Lanka', 'rating': '761', 'points': '761', 'lastUpdatedOn': '2025-02-17', 'trend': 'Flat', 'faceImageId': '155713', 'countryId': '5'}, {'id': '8497', 'rank': '8', 'name': 'Travis Head', 'country': 'Australia', 'rating': '748', 'difference': -3, 'points': '748', 'lastUpdatedOn': '2025-02-17', 'trend': 'Down', 'faceImageId': '332908', 'countryId': '4'}, {'id': '9812', 'rank': '9', 'name': 'Saud Shakeel', 'country': 'Pakistan', 'rating': '739', 'difference': -1, 'points': '739', 'lastUpdatedOn': '2025-02-17', 'trend': 'Down', 'faceImageId': '616442', 'countryId': '3'}, {'id': '10744', 'rank': '9', 'name': 'Rishabh Pant', 'country': 'India', 'rating': '739', 'difference': 1, 'points': '739', 'lastUpdatedOn': '2025-02-17', 'trend': 'Up', 'faceImageId': '616524', 'countryId': '2'}, {'id': '6635', 'rank': '9', 'name': 'Usman Khawaja', 'country': 'Australia', 'rating': '739', 'difference': 8, 'points': '739', 'lastUpdatedOn': '2025-02-17', 'trend': 'Up', 'faceImageId': '332905', 'countryId': '4'}, {'id': '10713', 'rank': '12', 'name': 'Daryl Mitchell', 'country': 'New Zealand', 'rating': '725', 'difference': -1, 'points': '725', 'lastUpdatedOn': '2025-02-17', 'trend': 'Down', 'faceImageId': '616424', 'countryId': '13'}, {'id': '6245', 'rank': '13', 'name': 'Dinesh Chandimal', 'country': 'Sri Lanka', 'rating': '708', 'points': '708', 'lastUpdatedOn': '2025-02-17', 'trend': 'Flat', 'faceImageId': '582334', 'countryId': '5'}, {'id': '9468', 'rank': '14', 'name': 'Mohammad Rizwan', 'country': 'Pakistan', 'rating': '671', 'difference': 3, 'points': '671', 'lastUpdatedOn': '2025-02-17', 'trend': 'Up', 'faceImageId': '616445', 'countryId': '3'}, {'id': '8502', 'rank': '15', 'name': 'Ben Duckett', 'country': 'England', 'rating': '669', 'points': '669', 'lastUpdatedOn': '2025-02-17', 'trend': 'Flat', 'faceImageId': '602103', 'countryId': '9'}], 'appIndex': {'seoTitle': 'ICC Cricket Rankings - Top 100 Batter | Cricbuzz.com', 'webURL': 'www.cricbuzz.com/cricket-stats/icc-rankings'}}\n"
     ]
    }
   ],
   "source": [
    "import requests\n",
    "\n",
    "url = \"https://cricbuzz-cricket.p.rapidapi.com/stats/v1/rankings/batsmen\"\n",
    "\n",
    "querystring = {\"formatType\":\"test\"}\n",
    "\n",
    "headers = {\n",
    "\t\"x-rapidapi-key\": \"793756ec10mshdd0621466d383f7p1c7776jsn6b46d7b54723\",\n",
    "\t\"x-rapidapi-host\": \"cricbuzz-cricket.p.rapidapi.com\"\n",
    "}\n",
    "\n",
    "response = requests.get(url, headers=headers, params=querystring)\n",
    "\n",
    "# save data into a json file\n",
    "\n",
    "Extract_data = response.json()\n",
    "print(Extract_data)"
   ]
  },
  {
   "cell_type": "code",
   "execution_count": 5,
   "metadata": {},
   "outputs": [
    {
     "name": "stdout",
     "output_type": "stream",
     "text": [
      "Data fetched successfully and written to 'team_ranking.csv'\n",
      "{'rank': [{'id': '8019', 'rank': '1', 'name': 'Joe Root', 'country': 'England', 'rating': '895', 'points': '895', 'lastUpdatedOn': '2025-02-17', 'trend': 'Flat', 'faceImageId': '351574', 'countryId': '9'}, {'id': '12201', 'rank': '2', 'name': 'Harry Brook', 'country': 'England', 'rating': '876', 'points': '876', 'lastUpdatedOn': '2025-02-17', 'trend': 'Flat', 'faceImageId': '244815', 'countryId': '9'}, {'id': '6326', 'rank': '3', 'name': 'Kane Williamson', 'country': 'New Zealand', 'rating': '867', 'points': '867', 'lastUpdatedOn': '2025-02-17', 'trend': 'Flat', 'faceImageId': '616418', 'countryId': '13'}, {'id': '13940', 'rank': '4', 'name': 'Yashasvi Jaiswal', 'country': 'India', 'rating': '847', 'points': '847', 'lastUpdatedOn': '2025-02-17', 'trend': 'Flat', 'faceImageId': '591942', 'countryId': '2'}, {'id': '2250', 'rank': '5', 'name': 'Steven Smith', 'country': 'Australia', 'rating': '823', 'difference': 4, 'points': '823', 'lastUpdatedOn': '2025-02-17', 'trend': 'Up', 'faceImageId': '352448', 'countryId': '4'}, {'id': '8583', 'rank': '6', 'name': 'Temba Bavuma', 'country': 'South Africa', 'rating': '769', 'points': '769', 'lastUpdatedOn': '2025-02-17', 'trend': 'Flat', 'faceImageId': '591937', 'countryId': '11'}, {'id': '10940', 'rank': '7', 'name': 'Kamindu Mendis', 'country': 'Sri Lanka', 'rating': '761', 'points': '761', 'lastUpdatedOn': '2025-02-17', 'trend': 'Flat', 'faceImageId': '155713', 'countryId': '5'}, {'id': '8497', 'rank': '8', 'name': 'Travis Head', 'country': 'Australia', 'rating': '748', 'difference': -3, 'points': '748', 'lastUpdatedOn': '2025-02-17', 'trend': 'Down', 'faceImageId': '332908', 'countryId': '4'}, {'id': '9812', 'rank': '9', 'name': 'Saud Shakeel', 'country': 'Pakistan', 'rating': '739', 'difference': -1, 'points': '739', 'lastUpdatedOn': '2025-02-17', 'trend': 'Down', 'faceImageId': '616442', 'countryId': '3'}, {'id': '10744', 'rank': '9', 'name': 'Rishabh Pant', 'country': 'India', 'rating': '739', 'difference': 1, 'points': '739', 'lastUpdatedOn': '2025-02-17', 'trend': 'Up', 'faceImageId': '616524', 'countryId': '2'}, {'id': '6635', 'rank': '9', 'name': 'Usman Khawaja', 'country': 'Australia', 'rating': '739', 'difference': 8, 'points': '739', 'lastUpdatedOn': '2025-02-17', 'trend': 'Up', 'faceImageId': '332905', 'countryId': '4'}, {'id': '10713', 'rank': '12', 'name': 'Daryl Mitchell', 'country': 'New Zealand', 'rating': '725', 'difference': -1, 'points': '725', 'lastUpdatedOn': '2025-02-17', 'trend': 'Down', 'faceImageId': '616424', 'countryId': '13'}, {'id': '6245', 'rank': '13', 'name': 'Dinesh Chandimal', 'country': 'Sri Lanka', 'rating': '708', 'points': '708', 'lastUpdatedOn': '2025-02-17', 'trend': 'Flat', 'faceImageId': '582334', 'countryId': '5'}, {'id': '9468', 'rank': '14', 'name': 'Mohammad Rizwan', 'country': 'Pakistan', 'rating': '671', 'difference': 3, 'points': '671', 'lastUpdatedOn': '2025-02-17', 'trend': 'Up', 'faceImageId': '616445', 'countryId': '3'}, {'id': '8502', 'rank': '15', 'name': 'Ben Duckett', 'country': 'England', 'rating': '669', 'points': '669', 'lastUpdatedOn': '2025-02-17', 'trend': 'Flat', 'faceImageId': '602103', 'countryId': '9'}], 'appIndex': {'seoTitle': 'ICC Cricket Rankings - Top 100 Batter | Cricbuzz.com', 'webURL': 'www.cricbuzz.com/cricket-stats/icc-rankings'}}\n"
     ]
    }
   ],
   "source": [
    "#Read data to csv\n",
    "if response.status_code == 200:\n",
    "    data = response.json().get('rank', [])  # Extracting the 'rank' data\n",
    "    csv_filename = 'team_ranking.csv'\n",
    "\n",
    "    if data:\n",
    "        field_names = ['id','rank', 'name', 'rating', 'matches', 'points', 'lastUpdatedOn']  # Specify required field names\n",
    "\n",
    "        # Write data to CSV file with only specified field names\n",
    "        with open(csv_filename, 'w', newline='', encoding='utf-8') as csvfile:\n",
    "            writer = csv.DictWriter(csvfile, fieldnames=field_names)\n",
    "            writer.writeheader()\n",
    "            for entry in data:\n",
    "                writer.writerow({field: entry.get(field) for field in field_names})\n",
    "\n",
    "        print(f\"Data fetched successfully and written to '{csv_filename}'\")\n",
    "    else:\n",
    "        print(\"No data available from the API.\")\n",
    "\n",
    "else:\n",
    "    print(\"Failed to fetch data:\", response.status_code)\n",
    "\n",
    "\n",
    "#print data into a json file\n",
    "print(response.json())"
   ]
  },
  {
   "cell_type": "code",
   "execution_count": null,
   "metadata": {},
   "outputs": [
    {
     "data": {
      "text/html": [
       "<div>\n",
       "<style scoped>\n",
       "    .dataframe tbody tr th:only-of-type {\n",
       "        vertical-align: middle;\n",
       "    }\n",
       "\n",
       "    .dataframe tbody tr th {\n",
       "        vertical-align: top;\n",
       "    }\n",
       "\n",
       "    .dataframe thead th {\n",
       "        text-align: right;\n",
       "    }\n",
       "</style>\n",
       "<table border=\"1\" class=\"dataframe\">\n",
       "  <thead>\n",
       "    <tr style=\"text-align: right;\">\n",
       "      <th></th>\n",
       "      <th>id</th>\n",
       "      <th>rank</th>\n",
       "      <th>name</th>\n",
       "      <th>rating</th>\n",
       "      <th>matches</th>\n",
       "      <th>points</th>\n",
       "      <th>lastUpdatedOn</th>\n",
       "    </tr>\n",
       "  </thead>\n",
       "  <tbody>\n",
       "    <tr>\n",
       "      <th>0</th>\n",
       "      <td>8019</td>\n",
       "      <td>1</td>\n",
       "      <td>Joe Root</td>\n",
       "      <td>895</td>\n",
       "      <td>NaN</td>\n",
       "      <td>895</td>\n",
       "      <td>2025-02-17</td>\n",
       "    </tr>\n",
       "    <tr>\n",
       "      <th>1</th>\n",
       "      <td>12201</td>\n",
       "      <td>2</td>\n",
       "      <td>Harry Brook</td>\n",
       "      <td>876</td>\n",
       "      <td>NaN</td>\n",
       "      <td>876</td>\n",
       "      <td>2025-02-17</td>\n",
       "    </tr>\n",
       "    <tr>\n",
       "      <th>2</th>\n",
       "      <td>6326</td>\n",
       "      <td>3</td>\n",
       "      <td>Kane Williamson</td>\n",
       "      <td>867</td>\n",
       "      <td>NaN</td>\n",
       "      <td>867</td>\n",
       "      <td>2025-02-17</td>\n",
       "    </tr>\n",
       "    <tr>\n",
       "      <th>3</th>\n",
       "      <td>13940</td>\n",
       "      <td>4</td>\n",
       "      <td>Yashasvi Jaiswal</td>\n",
       "      <td>847</td>\n",
       "      <td>NaN</td>\n",
       "      <td>847</td>\n",
       "      <td>2025-02-17</td>\n",
       "    </tr>\n",
       "    <tr>\n",
       "      <th>4</th>\n",
       "      <td>2250</td>\n",
       "      <td>5</td>\n",
       "      <td>Steven Smith</td>\n",
       "      <td>823</td>\n",
       "      <td>NaN</td>\n",
       "      <td>823</td>\n",
       "      <td>2025-02-17</td>\n",
       "    </tr>\n",
       "    <tr>\n",
       "      <th>5</th>\n",
       "      <td>8583</td>\n",
       "      <td>6</td>\n",
       "      <td>Temba Bavuma</td>\n",
       "      <td>769</td>\n",
       "      <td>NaN</td>\n",
       "      <td>769</td>\n",
       "      <td>2025-02-17</td>\n",
       "    </tr>\n",
       "    <tr>\n",
       "      <th>6</th>\n",
       "      <td>10940</td>\n",
       "      <td>7</td>\n",
       "      <td>Kamindu Mendis</td>\n",
       "      <td>761</td>\n",
       "      <td>NaN</td>\n",
       "      <td>761</td>\n",
       "      <td>2025-02-17</td>\n",
       "    </tr>\n",
       "    <tr>\n",
       "      <th>7</th>\n",
       "      <td>8497</td>\n",
       "      <td>8</td>\n",
       "      <td>Travis Head</td>\n",
       "      <td>748</td>\n",
       "      <td>NaN</td>\n",
       "      <td>748</td>\n",
       "      <td>2025-02-17</td>\n",
       "    </tr>\n",
       "    <tr>\n",
       "      <th>8</th>\n",
       "      <td>9812</td>\n",
       "      <td>9</td>\n",
       "      <td>Saud Shakeel</td>\n",
       "      <td>739</td>\n",
       "      <td>NaN</td>\n",
       "      <td>739</td>\n",
       "      <td>2025-02-17</td>\n",
       "    </tr>\n",
       "    <tr>\n",
       "      <th>9</th>\n",
       "      <td>10744</td>\n",
       "      <td>9</td>\n",
       "      <td>Rishabh Pant</td>\n",
       "      <td>739</td>\n",
       "      <td>NaN</td>\n",
       "      <td>739</td>\n",
       "      <td>2025-02-17</td>\n",
       "    </tr>\n",
       "    <tr>\n",
       "      <th>10</th>\n",
       "      <td>6635</td>\n",
       "      <td>9</td>\n",
       "      <td>Usman Khawaja</td>\n",
       "      <td>739</td>\n",
       "      <td>NaN</td>\n",
       "      <td>739</td>\n",
       "      <td>2025-02-17</td>\n",
       "    </tr>\n",
       "    <tr>\n",
       "      <th>11</th>\n",
       "      <td>10713</td>\n",
       "      <td>12</td>\n",
       "      <td>Daryl Mitchell</td>\n",
       "      <td>725</td>\n",
       "      <td>NaN</td>\n",
       "      <td>725</td>\n",
       "      <td>2025-02-17</td>\n",
       "    </tr>\n",
       "    <tr>\n",
       "      <th>12</th>\n",
       "      <td>6245</td>\n",
       "      <td>13</td>\n",
       "      <td>Dinesh Chandimal</td>\n",
       "      <td>708</td>\n",
       "      <td>NaN</td>\n",
       "      <td>708</td>\n",
       "      <td>2025-02-17</td>\n",
       "    </tr>\n",
       "    <tr>\n",
       "      <th>13</th>\n",
       "      <td>9468</td>\n",
       "      <td>14</td>\n",
       "      <td>Mohammad Rizwan</td>\n",
       "      <td>671</td>\n",
       "      <td>NaN</td>\n",
       "      <td>671</td>\n",
       "      <td>2025-02-17</td>\n",
       "    </tr>\n",
       "    <tr>\n",
       "      <th>14</th>\n",
       "      <td>8502</td>\n",
       "      <td>15</td>\n",
       "      <td>Ben Duckett</td>\n",
       "      <td>669</td>\n",
       "      <td>NaN</td>\n",
       "      <td>669</td>\n",
       "      <td>2025-02-17</td>\n",
       "    </tr>\n",
       "  </tbody>\n",
       "</table>\n",
       "</div>"
      ],
      "text/plain": [
       "       id  rank              name  rating  matches  points lastUpdatedOn\n",
       "0    8019     1          Joe Root     895      NaN     895    2025-02-17\n",
       "1   12201     2       Harry Brook     876      NaN     876    2025-02-17\n",
       "2    6326     3   Kane Williamson     867      NaN     867    2025-02-17\n",
       "3   13940     4  Yashasvi Jaiswal     847      NaN     847    2025-02-17\n",
       "4    2250     5      Steven Smith     823      NaN     823    2025-02-17\n",
       "5    8583     6      Temba Bavuma     769      NaN     769    2025-02-17\n",
       "6   10940     7    Kamindu Mendis     761      NaN     761    2025-02-17\n",
       "7    8497     8       Travis Head     748      NaN     748    2025-02-17\n",
       "8    9812     9      Saud Shakeel     739      NaN     739    2025-02-17\n",
       "9   10744     9      Rishabh Pant     739      NaN     739    2025-02-17\n",
       "10   6635     9     Usman Khawaja     739      NaN     739    2025-02-17\n",
       "11  10713    12    Daryl Mitchell     725      NaN     725    2025-02-17\n",
       "12   6245    13  Dinesh Chandimal     708      NaN     708    2025-02-17\n",
       "13   9468    14   Mohammad Rizwan     671      NaN     671    2025-02-17\n",
       "14   8502    15       Ben Duckett     669      NaN     669    2025-02-17"
      ]
     },
     "execution_count": 6,
     "metadata": {},
     "output_type": "execute_result"
    }
   ],
   "source": [
    "#Read into dataframe\n",
    "df_read_team_ranking = pd.read_csv(\"team_ranking.csv\")\n",
    "\n",
    "df_read_team_ranking"
   ]
  },
  {
   "cell_type": "code",
   "execution_count": 7,
   "metadata": {},
   "outputs": [
    {
     "name": "stdout",
     "output_type": "stream",
     "text": [
      "<class 'pandas.core.frame.DataFrame'>\n",
      "RangeIndex: 15 entries, 0 to 14\n",
      "Data columns (total 7 columns):\n",
      " #   Column         Non-Null Count  Dtype  \n",
      "---  ------         --------------  -----  \n",
      " 0   id             15 non-null     int64  \n",
      " 1   rank           15 non-null     int64  \n",
      " 2   name           15 non-null     object \n",
      " 3   rating         15 non-null     int64  \n",
      " 4   matches        0 non-null      float64\n",
      " 5   points         15 non-null     int64  \n",
      " 6   lastUpdatedOn  15 non-null     object \n",
      "dtypes: float64(1), int64(4), object(2)\n",
      "memory usage: 972.0+ bytes\n"
     ]
    }
   ],
   "source": [
    "df_read_team_ranking.info()"
   ]
  },
  {
   "cell_type": "markdown",
   "metadata": {},
   "source": [
    "Transformation Layer"
   ]
  },
  {
   "cell_type": "code",
   "execution_count": null,
   "metadata": {},
   "outputs": [
    {
     "name": "stdout",
     "output_type": "stream",
     "text": [
      "       id  rank              name  rating  matches  points lastUpdatedOn\n",
      "0    8019     1          Joe Root     895      NaN     895    2025-02-17\n",
      "1   12201     2       Harry Brook     876      NaN     876    2025-02-17\n",
      "2    6326     3   Kane Williamson     867      NaN     867    2025-02-17\n",
      "3   13940     4  Yashasvi Jaiswal     847      NaN     847    2025-02-17\n",
      "4    2250     5      Steven Smith     823      NaN     823    2025-02-17\n",
      "5    8583     6      Temba Bavuma     769      NaN     769    2025-02-17\n",
      "6   10940     7    Kamindu Mendis     761      NaN     761    2025-02-17\n",
      "7    8497     8       Travis Head     748      NaN     748    2025-02-17\n",
      "8    9812     9      Saud Shakeel     739      NaN     739    2025-02-17\n",
      "9   10744     9      Rishabh Pant     739      NaN     739    2025-02-17\n",
      "10   6635     9     Usman Khawaja     739      NaN     739    2025-02-17\n",
      "11  10713    12    Daryl Mitchell     725      NaN     725    2025-02-17\n",
      "12   6245    13  Dinesh Chandimal     708      NaN     708    2025-02-17\n",
      "13   9468    14   Mohammad Rizwan     671      NaN     671    2025-02-17\n",
      "14   8502    15       Ben Duckett     669      NaN     669    2025-02-17\n"
     ]
    }
   ],
   "source": [
    "# convert string to datetime\n",
    "\n",
    "df_read_team_ranking [\"lastUpdatedOn\"] = pd.to_datetime(df_read_team_ranking[\"lastUpdatedOn\"])\n",
    "\n",
    "print (df_read_team_ranking)"
   ]
  },
  {
   "cell_type": "code",
   "execution_count": 11,
   "metadata": {},
   "outputs": [
    {
     "name": "stdout",
     "output_type": "stream",
     "text": [
      "<class 'pandas.core.frame.DataFrame'>\n",
      "RangeIndex: 15 entries, 0 to 14\n",
      "Data columns (total 7 columns):\n",
      " #   Column         Non-Null Count  Dtype         \n",
      "---  ------         --------------  -----         \n",
      " 0   id             15 non-null     int64         \n",
      " 1   rank           15 non-null     int64         \n",
      " 2   name           15 non-null     object        \n",
      " 3   rating         15 non-null     int64         \n",
      " 4   matches        0 non-null      float64       \n",
      " 5   points         15 non-null     int64         \n",
      " 6   lastUpdatedOn  15 non-null     datetime64[ns]\n",
      "dtypes: datetime64[ns](1), float64(1), int64(4), object(1)\n",
      "memory usage: 972.0+ bytes\n"
     ]
    }
   ],
   "source": [
    "df_read_team_ranking.info()"
   ]
  },
  {
   "cell_type": "markdown",
   "metadata": {},
   "source": [
    "Loading Layer"
   ]
  },
  {
   "cell_type": "code",
   "execution_count": 9,
   "metadata": {},
   "outputs": [
    {
     "name": "stdout",
     "output_type": "stream",
     "text": [
      "password secured\n"
     ]
    }
   ],
   "source": [
    "# connect to database\n",
    "import getpass\n",
    "\n",
    "password =getpass.getpass(\"your_password:\")\n",
    "print (\"password secured\")"
   ]
  },
  {
   "cell_type": "code",
   "execution_count": 10,
   "metadata": {},
   "outputs": [],
   "source": [
    "import psycopg2\n",
    "\n",
    "conn = psycopg2.connect (\n",
    "    \n",
    "   host = \"localhost\",\n",
    "   database = \"Team_ranking\",\n",
    "   port = 5432,\n",
    "   user = \"postgres\",\n",
    "   password = password\n",
    ")"
   ]
  },
  {
   "cell_type": "code",
   "execution_count": 11,
   "metadata": {},
   "outputs": [
    {
     "name": "stdout",
     "output_type": "stream",
     "text": [
      "Table 'team_ranking' created successfully.\n"
     ]
    }
   ],
   "source": [
    "## Rollback any previous failed transaction\n",
    "conn.rollback()\n",
    "\n",
    "# Create a new cursor\n",
    "cursor = conn.cursor()\n",
    "\n",
    "# Create a table \n",
    "create_table_query = \"\"\"\n",
    "CREATE TABLE IF NOT EXISTS team_ranking (\n",
    "    id INT PRIMARY KEY,\n",
    "    rank INT,\n",
    "    name TEXT,    \n",
    "    rating NUMERIC,\n",
    "    matches NUMERIC,\n",
    "    points NUMERIC,    \n",
    "    lastUpdatedOn DATE\n",
    ");\n",
    "\"\"\"\n",
    "cursor.execute(create_table_query)\n",
    "\n",
    "conn.commit()\n",
    "\n",
    "print(\"Table 'team_ranking' created successfully.\")\n",
    "\n",
    "# Close the cursor and connection\n",
    "#cursor.close()\n",
    "#conn.close()"
   ]
  },
  {
   "cell_type": "code",
   "execution_count": null,
   "metadata": {},
   "outputs": [
    {
     "name": "stdout",
     "output_type": "stream",
     "text": [
      "CSV file successfully loaded into PostgreSQL.\n"
     ]
    }
   ],
   "source": [
    " \n",
    "\n",
    "#Load data into the table created\n",
    "conn.rollback()\n",
    "# Path to your CSV file\n",
    "csv_file = \"team_ranking.csv\"\n",
    "\n",
    "# # Read CSV into a DataFrame\n",
    "df_load = pd.read_csv(csv_file)\n",
    "\n",
    "# Insert data into the table\n",
    "for _, row in df_load.iterrows():\n",
    "    cursor.execute(\n",
    "        \"\"\"\n",
    "        INSERT INTO team_ranking (id, rank, name, rating, matches, points, lastUpdatedOn) \n",
    "        VALUES (%s, %s, %s,%s, %s, %s, %s)\n",
    "        \"\"\", \n",
    "        (row['id'], row['rank'], row['name'], row['rating'], row['matches'], row['points'], row['lastUpdatedOn'] )\n",
    "    )\n",
    "\n",
    "conn.commit()\n",
    "\n",
    "print(\"CSV file successfully loaded into PostgreSQL.\")\n",
    "\n",
    "# Close connections\n",
    "cursor.close()\n",
    "conn.close()"
   ]
  }
 ],
 "metadata": {
  "kernelspec": {
   "display_name": "Python 3",
   "language": "python",
   "name": "python3"
  },
  "language_info": {
   "codemirror_mode": {
    "name": "ipython",
    "version": 3
   },
   "file_extension": ".py",
   "mimetype": "text/x-python",
   "name": "python",
   "nbconvert_exporter": "python",
   "pygments_lexer": "ipython3",
   "version": "3.11.9"
  }
 },
 "nbformat": 4,
 "nbformat_minor": 2
}
